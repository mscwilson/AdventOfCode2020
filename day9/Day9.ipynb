{
 "cells": [
  {
   "cell_type": "markdown",
   "metadata": {},
   "source": [
    "XMAS starts by transmitting a preamble of 25 numbers. After that, each number you receive should be the sum of any two of the 25 immediately previous numbers. The two numbers will have different values, and there might be more than one such pair.\n",
    "\n",
    "For example, suppose your preamble consists of the numbers 1 through 25 in a random order. To be valid, the next number must be the sum of two of those numbers:\n",
    "\n",
    "    26 would be a valid next number, as it could be 1 plus 25 (or many other pairs, like 2 and 24).\n",
    "    49 would be a valid next number, as it is the sum of 24 and 25.\n",
    "    100 would not be valid; no two of the previous 25 numbers sum to 100.\n",
    "    50 would also not be valid; although 25 appears in the previous 25 numbers, the two numbers in the pair must be different.\n",
    "\n",
    "Suppose the 26th number is 45, and the first number (no longer an option, as it is more than 25 numbers ago) was 20. Now, for the next number to be valid, there needs to be some pair of numbers among 1-19, 21-25, or 45 that add up to it:\n",
    "\n",
    "    26 would still be a valid next number, as 1 and 25 are still within the previous 25 numbers.\n",
    "    65 would not be valid, as no two of the available numbers sum to it.\n",
    "    64 and 66 would both be valid, as they are the result of 19+45 and 21+45 respectively.\n",
    "\n",
    "Here is a larger example which only considers the previous 5 numbers (and has a preamble of length 5):\n",
    "\n",
    "35\n",
    "20\n",
    "15\n",
    "25\n",
    "47\n",
    "40\n",
    "62\n",
    "55\n",
    "65\n",
    "95\n",
    "102\n",
    "117\n",
    "150\n",
    "182\n",
    "127\n",
    "219\n",
    "299\n",
    "277\n",
    "309\n",
    "576\n",
    "\n",
    "In this example, after the 5-number preamble, almost every number is the sum of two of the previous 5 numbers; the only number that does not follow this rule is 127.\n",
    "\n",
    "The first step of attacking the weakness in the XMAS data is to find the first number in the list (after the preamble) which is not the sum of two of the 25 numbers before it. What is the first number that does not have this property?"
   ]
  },
  {
   "cell_type": "markdown",
   "metadata": {},
   "source": [
    "Input data:"
   ]
  },
  {
   "cell_type": "code",
   "execution_count": 2,
   "metadata": {},
   "outputs": [
    {
     "data": {
      "text/plain": [
       "[\"35\", \"20\", \"15\", \"25\", \"47\", \"40\", \"62\", \"55\", \"65\", \"95\", \"102\", \"117\", \"150\", \"182\", \"127\", \"219\", \"299\", \"277\", \"309\", \"576\"]"
      ]
     },
     "execution_count": 2,
     "metadata": {},
     "output_type": "execute_result"
    }
   ],
   "source": [
    "data = %w[\n",
    "35\n",
    "20\n",
    "15\n",
    "25\n",
    "47\n",
    "40\n",
    "62\n",
    "55\n",
    "65\n",
    "95\n",
    "102\n",
    "117\n",
    "150\n",
    "182\n",
    "127\n",
    "219\n",
    "299\n",
    "277\n",
    "309\n",
    "576]"
   ]
  },
  {
   "cell_type": "code",
   "execution_count": 4,
   "metadata": {},
   "outputs": [
    {
     "data": {
      "text/plain": [
       "[35, 20, 15, 25, 47, 40, 62, 55, 65, 95, 102, 117, 150, 182, 127, 219, 299, 277, 309, 576]"
      ]
     },
     "execution_count": 4,
     "metadata": {},
     "output_type": "execute_result"
    }
   ],
   "source": [
    "require \"set\"\n",
    "\n",
    "input_data = data.map(&:to_i)\n"
   ]
  },
  {
   "cell_type": "code",
   "execution_count": 6,
   "metadata": {},
   "outputs": [
    {
     "name": "stdout",
     "output_type": "stream",
     "text": [
      "\"The first non-sum number is: 127\"\n"
     ]
    },
    {
     "data": {
      "text/plain": [
       "127"
      ]
     },
     "execution_count": 6,
     "metadata": {},
     "output_type": "execute_result"
    }
   ],
   "source": [
    "preamble_length = 5\n",
    "\n",
    "def possible_sums(list)\n",
    "  possible_sums = Set.new()\n",
    "  list.combination(2).to_a.each { |pair| possible_sums.add(pair[0] + pair[1]) }\n",
    "  possible_sums\n",
    "end\n",
    "\n",
    "def first_part_answer(preamble_length, list)\n",
    "  list.each_with_index do |num, i|\n",
    "    next if i < preamble_length\n",
    "    next if possible_sums(list[i - preamble_length, preamble_length]).include?(num)\n",
    "      \n",
    "    p \"The first non-sum number is: #{num}\"\n",
    "    return num\n",
    "  end\n",
    "end\n",
    "\n",
    "first_part_answer(preamble_length, input_data)"
   ]
  },
  {
   "cell_type": "markdown",
   "metadata": {},
   "source": [
    "The final step in breaking the XMAS encryption relies on the invalid number you just found: you must find a contiguous set of at least two numbers in your list which sum to the invalid number from step 1.\n",
    "\n",
    "Again consider the above example:\n",
    "\n",
    "35\n",
    "20\n",
    "15\n",
    "25\n",
    "47\n",
    "40\n",
    "62\n",
    "55\n",
    "65\n",
    "95\n",
    "102\n",
    "117\n",
    "150\n",
    "182\n",
    "127\n",
    "219\n",
    "299\n",
    "277\n",
    "309\n",
    "576\n",
    "\n",
    "In this list, adding up all of the numbers from 15 through 40 produces the invalid number from step 1, 127. (Of course, the contiguous set of numbers in your actual list might be much longer.)\n",
    "\n",
    "To find the encryption weakness, add together the smallest and largest number in this contiguous range; in this example, these are 15 and 47, producing 62.\n",
    "\n",
    "What is the encryption weakness in your XMAS-encrypted list of numbers?"
   ]
  },
  {
   "cell_type": "code",
   "execution_count": 7,
   "metadata": {},
   "outputs": [
    {
     "name": "stdout",
     "output_type": "stream",
     "text": [
      "\"The first non-sum number is: 127\"\n"
     ]
    },
    {
     "data": {
      "text/plain": [
       "127"
      ]
     },
     "execution_count": 7,
     "metadata": {},
     "output_type": "execute_result"
    }
   ],
   "source": [
    "to_find = first_part_answer(preamble_length, input_data)"
   ]
  },
  {
   "cell_type": "code",
   "execution_count": 11,
   "metadata": {},
   "outputs": [
    {
     "name": "stdout",
     "output_type": "stream",
     "text": [
      "\"starting loop i: 0\"\n",
      "\"start of while i: 0\"\n",
      "\"the values being added together are: []\"\n",
      "\"start of while i: 1\"\n",
      "\"the values being added together are: [35]\"\n",
      "\"start of while i: 2\"\n",
      "\"the values being added together are: [35, 20]\"\n",
      "\"start of while i: 3\"\n",
      "\"the values being added together are: [35, 20, 15]\"\n",
      "\"start of while i: 4\"\n",
      "\"the values being added together are: [35, 20, 15, 25]\"\n",
      "\n",
      "\"starting loop i: 1\"\n",
      "\"start of while i: 1\"\n",
      "\"the values being added together are: []\"\n",
      "\"start of while i: 2\"\n",
      "\"the values being added together are: [20]\"\n",
      "\"start of while i: 3\"\n",
      "\"the values being added together are: [20, 15]\"\n",
      "\"start of while i: 4\"\n",
      "\"the values being added together are: [20, 15, 25]\"\n",
      "\"start of while i: 5\"\n",
      "\"the values being added together are: [20, 15, 25, 47]\"\n",
      "\n",
      "\"starting loop i: 2\"\n",
      "\"start of while i: 2\"\n",
      "\"the values being added together are: []\"\n",
      "\"start of while i: 3\"\n",
      "\"the values being added together are: [15]\"\n",
      "\"start of while i: 4\"\n",
      "\"the values being added together are: [15, 25]\"\n",
      "\"start of while i: 5\"\n",
      "\"the values being added together are: [15, 25, 47]\"\n",
      "\"These numbers sum to 127\"\n",
      "\"The final answer is: 62\"\n"
     ]
    }
   ],
   "source": [
    "input_data.each_with_index do |num, i|\n",
    "  current_sum = 0\n",
    "  these_values_added = []\n",
    "  p \"starting loop i: #{i}\"\n",
    "\n",
    "  while current_sum < to_find\n",
    "    p \"start of while i: #{i}\"\n",
    "    p \"the values being added together are: #{these_values_added}\"\n",
    "    current_sum += input_data[i]\n",
    "    these_values_added << input_data[i]\n",
    "    i += 1\n",
    "    \n",
    "  end\n",
    "\n",
    "  if current_sum == to_find\n",
    "      p \"These numbers sum to #{to_find}\"\n",
    "    these_values_added.sort!\n",
    "    p \"The final answer is: #{these_values_added[0] + these_values_added[-1]}\"\n",
    "    break\n",
    "  end\n",
    "  puts\n",
    "end\n"
   ]
  },
  {
   "cell_type": "code",
   "execution_count": null,
   "metadata": {},
   "outputs": [],
   "source": []
  }
 ],
 "metadata": {
  "kernelspec": {
   "display_name": "Ruby 2.6.5",
   "language": "ruby",
   "name": "ruby"
  },
  "language_info": {
   "file_extension": ".rb",
   "mimetype": "application/x-ruby",
   "name": "ruby",
   "version": "2.6.5"
  }
 },
 "nbformat": 4,
 "nbformat_minor": 4
}
